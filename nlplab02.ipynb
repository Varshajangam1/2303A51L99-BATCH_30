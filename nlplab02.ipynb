{
  "nbformat": 4,
  "nbformat_minor": 0,
  "metadata": {
    "colab": {
      "provenance": []
    },
    "kernelspec": {
      "name": "python3",
      "display_name": "Python 3"
    },
    "language_info": {
      "name": "python"
    }
  },
  "cells": [
    {
      "cell_type": "code",
      "execution_count": 1,
      "metadata": {
        "colab": {
          "base_uri": "https://localhost:8080/"
        },
        "id": "GPT4pRjKoSmZ",
        "outputId": "4ce4b60e-1d69-4e85-a09a-3a2ca1e49d4a"
      },
      "outputs": [
        {
          "output_type": "stream",
          "name": "stderr",
          "text": [
            "[nltk_data] Downloading package punkt to /root/nltk_data...\n",
            "[nltk_data]   Unzipping tokenizers/punkt.zip.\n"
          ]
        },
        {
          "output_type": "stream",
          "name": "stdout",
          "text": [
            "Word Tokens: ['Hello', 'there', '!', 'How', 'are', 'you', 'doing', 'today', '?', 'NLP', 'is', 'fascinating', '.']\n",
            "Sentence Tokens: ['Hello there!', 'How are you doing today?', 'NLP is fascinating.']\n"
          ]
        }
      ],
      "source": [
        "import nltk\n",
        "from nltk.tokenize import word_tokenize, sent_tokenize\n",
        "\n",
        "# Download the tokenizer models if you haven't already\n",
        "nltk.download('punkt')\n",
        "\n",
        "text = \"Hello there! How are you doing today? NLP is fascinating.\"\n",
        "\n",
        "# Tokenize into words\n",
        "word_tokens = word_tokenize(text)\n",
        "print(\"Word Tokens:\", word_tokens)\n",
        "\n",
        "# Tokenize into sentences\n",
        "sentence_tokens = sent_tokenize(text)\n",
        "print(\"Sentence Tokens:\", sentence_tokens)\n"
      ]
    },
    {
      "cell_type": "code",
      "source": [
        "from nltk.stem import PorterStemmer\n",
        "\n",
        "\n",
        "# Initialize the stemmer\n",
        "stemmer = PorterStemmer()\n",
        "\n",
        "\n",
        "words = [\"running\", \"ran\", \"runs\", \"easily\", \"fairly\"]\n",
        "\n",
        "\n",
        "# Apply stemming\n",
        "stemmed_words = [stemmer.stem(word) for word in words]\n",
        "print(\"Stemmed Words:\", stemmed_words)\n"
      ],
      "metadata": {
        "id": "7tRz5NP81LOw",
        "outputId": "041de1a5-a722-4a5d-9fcb-e54f3f6238ac",
        "colab": {
          "base_uri": "https://localhost:8080/"
        }
      },
      "execution_count": 3,
      "outputs": [
        {
          "output_type": "stream",
          "name": "stdout",
          "text": [
            "Stemmed Words: ['run', 'ran', 'run', 'easili', 'fairli']\n"
          ]
        }
      ]
    },
    {
      "cell_type": "code",
      "source": [
        "from sklearn.feature_extraction.text import TfidfVectorizer\n",
        "\n",
        "\n",
        "texts = [\"NLP is fun and interesting.\", \"NLP involves linguistics and computer science.\"]\n",
        "\n",
        "\n",
        "# Initialize TF-IDF Vectorizer\n",
        "vectorizer = TfidfVectorizer()\n",
        "\n",
        "\n",
        "# Fit and transform the texts\n",
        "tfidf_matrix = vectorizer.fit_transform(texts)\n",
        "\n",
        "\n",
        "# Print the feature names and TF-IDF matrix\n",
        "feature_names = vectorizer.get_feature_names_out()\n",
        "print(\"Feature Names:\", feature_names)\n",
        "print(\"TF-IDF Matrix:\\n\", tfidf_matrix.toarray())\n"
      ],
      "metadata": {
        "id": "lXtMLv3i1RdI",
        "outputId": "dd93c33b-5b42-49e0-b892-9c8b38010b31",
        "colab": {
          "base_uri": "https://localhost:8080/"
        }
      },
      "execution_count": 4,
      "outputs": [
        {
          "output_type": "stream",
          "name": "stdout",
          "text": [
            "Feature Names: ['and' 'computer' 'fun' 'interesting' 'involves' 'is' 'linguistics' 'nlp'\n",
            " 'science']\n",
            "TF-IDF Matrix:\n",
            " [[0.35520009 0.         0.49922133 0.49922133 0.         0.49922133\n",
            "  0.         0.35520009 0.        ]\n",
            " [0.31779954 0.44665616 0.         0.         0.44665616 0.\n",
            "  0.44665616 0.31779954 0.44665616]]\n"
          ]
        }
      ]
    },
    {
      "cell_type": "code",
      "source": [
        "sentences = [\"NLP is an interesting field.\", \"It involves processing natural language.\"]\n",
        "\n",
        "\n",
        "# Initialize TF-IDF Vectorizer\n",
        "vectorizer = TfidfVectorizer()\n",
        "\n",
        "\n",
        "# Fit and transform the sentences\n",
        "tfidf_matrix = vectorizer.fit_transform(sentences)\n",
        "\n",
        "\n",
        "# Print the feature names and TF-IDF matrix\n",
        "feature_names = vectorizer.get_feature_names_out()\n",
        "print(\"Feature Names:\", feature_names)\n",
        "print(\"TF-IDF Matrix:\\n\", tfidf_matrix.toarray())"
      ],
      "metadata": {
        "id": "ni3JJ7h81doX",
        "outputId": "9afc03bd-cd35-4459-94ef-6d0b7e0dfde7",
        "colab": {
          "base_uri": "https://localhost:8080/"
        }
      },
      "execution_count": 5,
      "outputs": [
        {
          "output_type": "stream",
          "name": "stdout",
          "text": [
            "Feature Names: ['an' 'field' 'interesting' 'involves' 'is' 'it' 'language' 'natural'\n",
            " 'nlp' 'processing']\n",
            "TF-IDF Matrix:\n",
            " [[0.4472136 0.4472136 0.4472136 0.        0.4472136 0.        0.\n",
            "  0.        0.4472136 0.       ]\n",
            " [0.        0.        0.        0.4472136 0.        0.4472136 0.4472136\n",
            "  0.4472136 0.        0.4472136]]\n"
          ]
        }
      ]
    }
  ]
}